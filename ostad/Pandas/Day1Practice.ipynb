{
 "cells": [
  {
   "cell_type": "code",
   "execution_count": 1,
   "id": "ce65ca98-acb6-4768-8f83-6b23fd12fe4f",
   "metadata": {},
   "outputs": [
    {
     "name": "stdout",
     "output_type": "stream",
     "text": [
      "1\n",
      "2\n",
      "4\n",
      "5\n",
      "6\n"
     ]
    }
   ],
   "source": [
    "i = 0\n",
    "while i < 6:\n",
    "  i += 1\n",
    "  if i == 3:\n",
    "    continue\n",
    "  print(i)\n"
   ]
  },
  {
   "cell_type": "code",
   "execution_count": 2,
   "id": "f1ee0c9a-57c0-41ce-8970-77aefefb49f6",
   "metadata": {},
   "outputs": [
    {
     "name": "stdout",
     "output_type": "stream",
     "text": [
      "1\n",
      "2\n",
      "3\n"
     ]
    }
   ],
   "source": [
    "count=0\n",
    "while count<5:\n",
    "    if count==3:\n",
    "        break\n",
    "    count+=1\n",
    "    print(count)"
   ]
  },
  {
   "cell_type": "code",
   "execution_count": 4,
   "id": "09302787-92be-4730-8cb2-9002ccd7dbe9",
   "metadata": {},
   "outputs": [
    {
     "name": "stdin",
     "output_type": "stream",
     "text": [
      "Enter the number :  3\n"
     ]
    },
    {
     "name": "stdout",
     "output_type": "stream",
     "text": [
      "1\n",
      "2\n",
      "3\n",
      "The sum is 6.0\n"
     ]
    }
   ],
   "source": [
    "#Sum of n numbers\n",
    "n=int(input(\"Enter the number : \"))\n",
    "i=1\n",
    "sum=0.0\n",
    "while i<=n:\n",
    "    sum+=i\n",
    "    print(i)\n",
    "    i+=1\n",
    "print(\"The sum is\",sum)\n",
    "    "
   ]
  },
  {
   "cell_type": "code",
   "execution_count": 6,
   "id": "6724b55d-5eac-427c-8a68-292070985c69",
   "metadata": {},
   "outputs": [
    {
     "name": "stdin",
     "output_type": "stream",
     "text": [
      "Enter the number:  10\n"
     ]
    },
    {
     "name": "stdout",
     "output_type": "stream",
     "text": [
      "1\n",
      "2\n",
      "3\n",
      "4\n",
      "5\n",
      "6\n",
      "7\n",
      "8\n",
      "9\n",
      "10\n",
      "The sum is :  55.0\n"
     ]
    }
   ],
   "source": [
    "#Summation of n numbers\n",
    "n=int(input('Enter the number: '))\n",
    "i=1\n",
    "sum=0.0\n",
    "while i<=n:\n",
    "    print(i)\n",
    "    sum+=i\n",
    "    i+=1\n",
    "print(\"The sum is : \",sum)"
   ]
  },
  {
   "cell_type": "code",
   "execution_count": 12,
   "id": "3ed4b903-476c-4a64-bd62-b7afc6de96d3",
   "metadata": {},
   "outputs": [
    {
     "name": "stdout",
     "output_type": "stream",
     "text": [
      "F\n",
      "a\n",
      "r\n",
      "h\n",
      "a\n",
      "n\n",
      "a\n",
      " \n",
      "A\n",
      "k\n",
      "t\n",
      "e\n",
      "r\n",
      " \n",
      "S\n",
      "u\n",
      "c\n",
      "h\n",
      "i\n"
     ]
    }
   ],
   "source": [
    "for x in \"Farhana Akter Suchi\":\n",
    "    print(x)"
   ]
  },
  {
   "cell_type": "code",
   "execution_count": 13,
   "id": "08472cf9-2672-4eb1-9a5f-fd1a06f41237",
   "metadata": {},
   "outputs": [
    {
     "name": "stdout",
     "output_type": "stream",
     "text": [
      "Farhana\n",
      "Akter\n",
      "Suchi\n"
     ]
    }
   ],
   "source": [
    "names=[\"Farhana\",\"Akter\",\"Suchi\"]\n",
    "for x in names:\n",
    "    print(x)"
   ]
  },
  {
   "cell_type": "code",
   "execution_count": 14,
   "id": "c12ebdfc-b590-4adf-a7d1-56da4aff9009",
   "metadata": {},
   "outputs": [
    {
     "name": "stdout",
     "output_type": "stream",
     "text": [
      "Apple\n",
      "Banana\n",
      "Jack-Fruit\n",
      "Lichi\n"
     ]
    }
   ],
   "source": [
    "fruits=[\"Apple\",\"Banana\",\"Jack-Fruit\",\"Lichi\"]\n",
    "for i in fruits:\n",
    "    print(i)"
   ]
  },
  {
   "cell_type": "code",
   "execution_count": 15,
   "id": "51f65ca0-8c25-4eb0-897f-72f436561315",
   "metadata": {},
   "outputs": [
    {
     "name": "stdout",
     "output_type": "stream",
     "text": [
      "Jack-fruit\n",
      "Lichi\n",
      "Mango\n"
     ]
    }
   ],
   "source": [
    "fruits=[\"Jack-fruit\",\"Lichi\",\"Mango\",\"Banana\",\"Berry\"]\n",
    "for i in fruits:\n",
    "    print(i)\n",
    "    if i==\"Mango\":\n",
    "        break"
   ]
  },
  {
   "cell_type": "code",
   "execution_count": 16,
   "id": "bd376790-167f-4156-88b8-216170e00927",
   "metadata": {},
   "outputs": [
    {
     "name": "stdout",
     "output_type": "stream",
     "text": [
      "Abbu\n",
      "Ammu\n",
      "Suci\n",
      "Sumi\n"
     ]
    }
   ],
   "source": [
    "family=[\"Abbu\",\"Ammu\",\"Ajmir\",\"Suci\",\"Sumi\"]\n",
    "for i in family:\n",
    "    if i==\"Ajmir\":\n",
    "        continue\n",
    "    print(i)"
   ]
  },
  {
   "cell_type": "code",
   "execution_count": 17,
   "id": "dda1e5e0-9533-432e-83fa-6e29933542b1",
   "metadata": {},
   "outputs": [
    {
     "name": "stdout",
     "output_type": "stream",
     "text": [
      "10\n",
      "20\n",
      "30\n",
      "40\n",
      "50\n"
     ]
    }
   ],
   "source": [
    "num=[10,20,30,40,50]\n",
    "for i in num:\n",
    "    print(i)"
   ]
  },
  {
   "cell_type": "code",
   "execution_count": 19,
   "id": "fef14c25-c41f-4541-b3de-b854b78ba34b",
   "metadata": {},
   "outputs": [
    {
     "name": "stdout",
     "output_type": "stream",
     "text": [
      "10\n",
      "20\n",
      "30\n",
      "40\n",
      "50\n"
     ]
    }
   ],
   "source": [
    "num=[10,20,30,40,50]\n",
    "index=0\n",
    "length=len(num)\n",
    "while index<length:\n",
    "    print(num[index])\n",
    "    index+=1\n",
    "\n"
   ]
  },
  {
   "cell_type": "code",
   "execution_count": 20,
   "id": "102d0627-6515-4b19-ae00-454a6eb10a15",
   "metadata": {},
   "outputs": [
    {
     "name": "stdout",
     "output_type": "stream",
     "text": [
      "0\n",
      "1\n",
      "2\n",
      "3\n",
      "4\n",
      "5\n"
     ]
    }
   ],
   "source": [
    "for x in range(6):\n",
    "  print(x)\n"
   ]
  },
  {
   "cell_type": "code",
   "execution_count": 21,
   "id": "09d10d9c-609d-40f2-b096-a0008e11b102",
   "metadata": {},
   "outputs": [
    {
     "name": "stdout",
     "output_type": "stream",
     "text": [
      "0\n",
      "1\n",
      "2\n",
      "3\n",
      "4\n",
      "5\n"
     ]
    }
   ],
   "source": [
    "for x in range(6):\n",
    "    print(x)"
   ]
  },
  {
   "cell_type": "code",
   "execution_count": 22,
   "id": "c2bb9746-4d52-4368-b54b-05e96d11e57a",
   "metadata": {},
   "outputs": [
    {
     "name": "stdout",
     "output_type": "stream",
     "text": [
      "2\n",
      "3\n",
      "4\n",
      "5\n"
     ]
    }
   ],
   "source": [
    "for x in range(2, 6):\n",
    "  print(x)\n"
   ]
  },
  {
   "cell_type": "code",
   "execution_count": 23,
   "id": "2b217636-6f6d-4984-b96e-591f0549bfe3",
   "metadata": {},
   "outputs": [
    {
     "name": "stdout",
     "output_type": "stream",
     "text": [
      "3\n",
      "4\n",
      "5\n",
      "6\n",
      "7\n",
      "8\n",
      "9\n"
     ]
    }
   ],
   "source": [
    "for x in range(3,10):\n",
    "    print(x)"
   ]
  },
  {
   "cell_type": "code",
   "execution_count": 24,
   "id": "537574b2-cf4b-4ee7-a4b6-2dfcf525db3b",
   "metadata": {},
   "outputs": [
    {
     "name": "stdout",
     "output_type": "stream",
     "text": [
      "2\n",
      "5\n",
      "8\n",
      "11\n",
      "14\n",
      "17\n",
      "20\n",
      "23\n",
      "26\n",
      "29\n"
     ]
    }
   ],
   "source": [
    "for x in range(2, 30, 3):\n",
    "  print(x)\n"
   ]
  },
  {
   "cell_type": "code",
   "execution_count": 25,
   "id": "ef506005-3ae1-493a-865f-07e384756502",
   "metadata": {},
   "outputs": [
    {
     "name": "stdout",
     "output_type": "stream",
     "text": [
      "5\n",
      "10\n",
      "15\n",
      "20\n",
      "25\n",
      "30\n",
      "35\n",
      "40\n",
      "45\n"
     ]
    }
   ],
   "source": [
    "for i in range(5,50,5):\n",
    "    print(i)"
   ]
  },
  {
   "cell_type": "code",
   "execution_count": null,
   "id": "395603ac-39b8-456d-b518-32ca96f32245",
   "metadata": {},
   "outputs": [],
   "source": []
  }
 ],
 "metadata": {
  "kernelspec": {
   "display_name": "Python 3 (ipykernel)",
   "language": "python",
   "name": "python3"
  },
  "language_info": {
   "codemirror_mode": {
    "name": "ipython",
    "version": 3
   },
   "file_extension": ".py",
   "mimetype": "text/x-python",
   "name": "python",
   "nbconvert_exporter": "python",
   "pygments_lexer": "ipython3",
   "version": "3.12.1"
  }
 },
 "nbformat": 4,
 "nbformat_minor": 5
}
